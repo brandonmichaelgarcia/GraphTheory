{
 "cells": [
  {
   "cell_type": "markdown",
   "metadata": {},
   "source": [
    "<h2>Algorithm Implementation of the Havel-Hakimi Theorem</h2>\n",
    "\n",
    "<h5>Produced by Brandon Michael Garcia on 9/19/2016</h5>"
   ]
  },
  {
   "cell_type": "markdown",
   "metadata": {},
   "source": [
    "This is a short guide to a implementation of the central algorithmic idea of the Havel-Hakimi Theorem that provides a way to discern whether a sequence of integers is a degree sequence of some simple graph.<br><br>\n",
    "Because the intent of this presentation is for education to those with little experience with programming, maximally efficient algorithm development is not explored here. In fact, the algorithm presented here intentially implements one of the simplest recursive approaches to discerning whether a sequence is graphical and deploys the relatively intuitive Bubble Sort algorithm for sorting the sequence. Furthermore, the Python programming language was chosen because the high-level language affords greater reading clarity (but not necessary the best performance)."
   ]
  },
  {
   "cell_type": "markdown",
   "metadata": {},
   "source": [
    "---"
   ]
  },
  {
   "cell_type": "markdown",
   "metadata": {},
   "source": [
    "Our first step towards an algorithm to determine whether an integer sequence is graphical uses a key manuever from the Havel-Hakimi Theorem. If $d_1$ represents the first integer in a sequence, the following function will reduces by 1 the integers from $d_2$ to $d_{d_1+1}$."
   ]
  },
  {
   "cell_type": "code",
   "execution_count": 3,
   "metadata": {
    "collapsed": true
   },
   "outputs": [],
   "source": [
    "def reductionHH(seq, startIndex):\n",
    "    # set the number of integers that will be reduced\n",
    "    reductionInt = seq[startIndex]\n",
    "    \n",
    "    # Calculate the index of last integer to be reduced\n",
    "    stopIndex = startIndex+reductionInt+1\n",
    "    \n",
    "    # Reduce the next \"reductionInt\" number of integers\n",
    "    for i in range(startIndex+1,stopIndex):\n",
    "       seq[i] = seq[i] - 1\n"
   ]
  },
  {
   "cell_type": "markdown",
   "metadata": {},
   "source": [
    "The Havel-Hakimi Theorem suggests that the reduction above should be applied to a sequence of integers in descending order. So the following function uses the very simple Bubble Sort algorithm to allow us to perform this sorting."
   ]
  },
  {
   "cell_type": "code",
   "execution_count": 4,
   "metadata": {
    "collapsed": false
   },
   "outputs": [],
   "source": [
    "def arrangeDescending(seq):\n",
    "\n",
    "    # loop the starting position (the ith position) through the length of the degSeq\n",
    "    for i in range(0,len(seq)):\n",
    "        maxIndex = i\n",
    "\n",
    "        # Find the max of the array from the ith position through the end\n",
    "        for j in range(i, len(seq)):\n",
    "            if (seq[j] > seq[maxIndex]):\n",
    "                maxIndex = j\n",
    "\n",
    "        #swap the max into the starting position (ith position)\n",
    "        temp = seq[i]\n",
    "        seq[i] = seq[maxIndex]\n",
    "        seq[maxIndex] = temp\n",
    "        "
   ]
  },
  {
   "cell_type": "markdown",
   "metadata": {},
   "source": [
    "Now that we have defined the above component functions, we can proceed to developing the major logical machinery of the algorithm to decide whether a given integer sequence is a graphical degree sequence. <br>\n",
    "\n",
    "A central idea of any algorithm using the Havel-Hakimi Theorem to decide whether a given integer sequence is graphical is that we can recursively deploy the reduction process to the subsequence produced after deleting the leading integer. In the HavelHakimi function defined below, instead of deleting the leading integer, I track a \"startIndex\" to allow me to work with subsequences of sequence passed as arguments of the HavelHakimi function. By incrementing this startIndex and passing it along with the original sequence, I effectively tell the function to cut off (ignore) the terms up to this index. <br>\n",
    "\n",
    "The recursion on the subsequences continues until one of three possiblities is encountered:<br>\n",
    "1) the subsequence contains a negative number.<br>\n",
    "2) the subsequence contains all zeros. <br>\n",
    "3) the subsequence (arranged in descending order) has a leading term that is larger than or equal to the length of the subsequence.<br>\n",
    "\n",
    "Of course, possibilities 1 & 3 are very problematic, and therefore the algorithm will terminate and return False in these cases. There are other properties that could be checked to discover if the subsequence cannot be a graphical sequence. Because checking for these other properties only improves the overall efficiency with which non-graphical sequences are discovered and is not required for the algorithm to operate and terminate validly, these additional cases were not checked.<br>\n",
    "\n",
    "Alternately, possibility 2 is clearly a case in which the subsequence is graphical, and therefore the algorithm terminates and returns True in this case. Similarly to the the above discussion, checking for additional graphical subsequences is possible, but could only contribute to a very modest gain in computational efficiency.<br>\n",
    "\n",
    "Follow the comments dispersed in the following code to explore this HavelHakimi function further:"
   ]
  },
  {
   "cell_type": "code",
   "execution_count": 19,
   "metadata": {
    "collapsed": false
   },
   "outputs": [],
   "source": [
    "# Simple recursive implementation of central algorithmic idea from Havel-Hakimi Theorem\n",
    "def HavelHakimi(seq,startIndex=None):\n",
    "    # if running function first time, startIndex gets value 0\n",
    "    if (startIndex is None):\n",
    "        startIndex = 0\n",
    "\n",
    "\n",
    "    # (CASE 1) If there are non-zero terms, stop with false status\n",
    "    i = startIndex;\n",
    "    while (i < len(seq)):\n",
    "        if (seq[i] < 0):\n",
    "            print(\"Sequence {} is not Graphical\".format(seq[startIndex:]))\n",
    "            return False\n",
    "        i = i+1\n",
    "\n",
    "    # (CASE 2) If all terms are zero, stop with true status\n",
    "    termsAreZero = True\n",
    "    i = startIndex;\n",
    "    while (i < len(seq) and termsAreZero):\n",
    "        if (seq[i] != 0):\n",
    "            termsAreZero = False\n",
    "        i = i+1\n",
    "    if (termsAreZero):\n",
    "        print(\"Sequence {} is Graphical\".format(seq[startIndex:]))\n",
    "        return True\n",
    "    \n",
    "    # (CASE 3) If there are non-zero terms, arrange in descending order,\n",
    "    # and check if leading term is too big for reduction process\n",
    "    arrangeDescending(seq)\n",
    "    if (seq[startIndex] >= len(seq[startIndex:])):\n",
    "        print(\"Sequence {} is not Graphical\".format(seq[startIndex:]))\n",
    "        return False\n",
    "    \n",
    "    \n",
    "    # If the above cases do not encountered, apply reductionHH function \n",
    "    # and recursively call this HavelHakimi function\n",
    "    print(seq[startIndex:])\n",
    "    reductionHH(seq, startIndex)\n",
    "    return HavelHakimi(seq, startIndex+1)\n"
   ]
  },
  {
   "cell_type": "markdown",
   "metadata": {},
   "source": [
    "Now that we have pulled all the logic together, we are ready to use this algorithm. To use the HavelHakimi function, we first need a positive integer sequence.<br>\n",
    "Change the numbers on the following line of code to use the algorithm on your own integer sequence. Then, hit SHIFT-RETURN while the cell is selected to update the variable \"seq\"."
   ]
  },
  {
   "cell_type": "code",
   "execution_count": 20,
   "metadata": {
    "collapsed": true
   },
   "outputs": [],
   "source": [
    "seq = [4,4,4,3,3,3,3]"
   ]
  },
  {
   "cell_type": "markdown",
   "metadata": {},
   "source": [
    "Lastly, select the following cell and hit SHIFT-RETURN to run the HavelHakimi function on seq.<br>\n",
    "\n",
    "(Notice that you don't need to provide any other arguments–don't worry about the startIndex parameter.)"
   ]
  },
  {
   "cell_type": "code",
   "execution_count": 21,
   "metadata": {
    "collapsed": false
   },
   "outputs": [
    {
     "name": "stdout",
     "output_type": "stream",
     "text": [
      "[4, 4, 4, 3, 3, 3, 3]\n",
      "[3, 3, 3, 3, 2, 2]\n",
      "[2, 2, 2, 2, 2]\n",
      "[2, 2, 1, 1]\n",
      "[1, 1, 0]\n",
      "Sequence [0, 0] is Graphical\n",
      "Thus, the sequence [4, 4, 4, 3, 3, 3, 3] is Graphical\n"
     ]
    }
   ],
   "source": [
    "if (HavelHakimi(seq[:])):\n",
    "    print(\"Thus, the sequence {} is Graphical\".format(seq))\n",
    "else:\n",
    "    print(\"Thus, the sequence {} is not Graphical\".format(seq))"
   ]
  },
  {
   "cell_type": "markdown",
   "metadata": {},
   "source": [
    "The output above should display the subsequences produced via the reduction/re-ordering processes, report the subsequence on which the HavelHakimi function terminated, and then display the correlated conclusion about the original sequence passed to the HavelHakimi function."
   ]
  }
 ],
 "metadata": {
  "hide_input": false,
  "kernelspec": {
   "display_name": "Python 3",
   "language": "python",
   "name": "python3"
  },
  "notify_time": "5"
 },
 "nbformat": 4,
 "nbformat_minor": 0
}
